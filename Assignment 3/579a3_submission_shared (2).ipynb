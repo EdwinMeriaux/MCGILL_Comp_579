{
  "cells": [
    {
      "cell_type": "markdown",
      "source": [
        "## Dataset"
      ],
      "metadata": {
        "id": "eicZqeliK900"
      }
    },
    {
      "cell_type": "markdown",
      "metadata": {
        "id": "AFNt5414YhK_"
      },
      "source": [
        "The dataset contains 18 csv files. These are the different sets of data collected from project 2. They were all stored in csv files for the sake of replication and keeping the datasets consistent. For each of the 9 dataset variants, there is an \"action\" file and a \"state\" file.\n",
        "\n",
        "1. Expert (in 100, 250, and 500 episode variants) (state action)\n",
        "2. Expert_Random (in 100, 250, and 500 episode variants) (state action)\n",
        "3. Random (in 100, 250, and 500 episode variants) (state action)\n",
        "\n",
        "So each csv is for one type of data with a certain number of episodes and is either the action (Y data in a logistic Regression) or the state (X data in a logistic regression).\n",
        "\n",
        "In each CSV the left most coloumn is to be ignored it is just the row index. In the action CSV the remaining column is the action: 0 or 1. The state CSV contains the 4 remaining state values in the other columns as given by gymansium in env.step().\n",
        "\n",
        "The data for this project will be submitted as seperate files with this IPYNB file and everything in one Zip file."
      ]
    },
    {
      "cell_type": "markdown",
      "source": [
        "Google import (personal use only)"
      ],
      "metadata": {
        "id": "K3Z54IaCLCdX"
      }
    },
    {
      "cell_type": "code",
      "execution_count": null,
      "metadata": {
        "colab": {
          "base_uri": "https://localhost:8080/"
        },
        "id": "QvPIz7Hgh1a-",
        "outputId": "6e84d63f-3306-43b5-85c3-a12fd451dd52"
      },
      "outputs": [
        {
          "output_type": "stream",
          "name": "stdout",
          "text": [
            "Mounted at /content/drive\n",
            "579a3q2-shared.ipynb\t      action_Random_100.csv  Expert_random_100.csv\n",
            "action_Expert_100.csv\t      action_Random_250.csv  Expert_random_250.csv\n",
            "action_Expert_250.csv\t      action_Random_500.csv  Expert_random_500.csv\n",
            "action_Expert_500.csv\t      drive\t\t     Random_100.csv\n",
            "action_Expert_random_100.csv  Expert_100.csv\t     Random_250.csv\n",
            "action_Expert_random_250.csv  Expert_250.csv\t     Random_500.csv\n",
            "action_Expert_random_500.csv  Expert_500.csv\t     sample_data\n"
          ]
        }
      ],
      "source": [
        "from google.colab import drive\n",
        "drive.mount('/content/drive')\n",
        "!cp -r /content/drive/MyDrive/579_assignment_4_data/assignment_4_data/*.* .\n",
        "!ls"
      ]
    },
    {
      "cell_type": "markdown",
      "source": [
        "#Imports"
      ],
      "metadata": {
        "id": "Nu0ZTJvoLIgd"
      }
    },
    {
      "cell_type": "markdown",
      "metadata": {
        "id": "81zy7akbYhLD"
      },
      "source": [
        "The imported library is Gymnasium. This is not by default in Python therefore it must be pip installed."
      ]
    },
    {
      "cell_type": "code",
      "execution_count": null,
      "metadata": {
        "colab": {
          "base_uri": "https://localhost:8080/"
        },
        "id": "yT4I3K-TZcS2",
        "outputId": "a0877994-b975-4139-c002-d8e74f9070ed"
      },
      "outputs": [
        {
          "output_type": "stream",
          "name": "stdout",
          "text": [
            "Looking in indexes: https://pypi.org/simple, https://us-python.pkg.dev/colab-wheels/public/simple/\n",
            "Requirement already satisfied: gymnasium[classic-control] in /usr/local/lib/python3.9/dist-packages (0.28.1)\n",
            "Requirement already satisfied: jax-jumpy>=1.0.0 in /usr/local/lib/python3.9/dist-packages (from gymnasium[classic-control]) (1.0.0)\n",
            "Requirement already satisfied: typing-extensions>=4.3.0 in /usr/local/lib/python3.9/dist-packages (from gymnasium[classic-control]) (4.5.0)\n",
            "Requirement already satisfied: numpy>=1.21.0 in /usr/local/lib/python3.9/dist-packages (from gymnasium[classic-control]) (1.22.4)\n",
            "Requirement already satisfied: cloudpickle>=1.2.0 in /usr/local/lib/python3.9/dist-packages (from gymnasium[classic-control]) (2.2.1)\n",
            "Requirement already satisfied: importlib-metadata>=4.8.0 in /usr/local/lib/python3.9/dist-packages (from gymnasium[classic-control]) (6.1.0)\n",
            "Requirement already satisfied: farama-notifications>=0.0.1 in /usr/local/lib/python3.9/dist-packages (from gymnasium[classic-control]) (0.0.4)\n",
            "Requirement already satisfied: pygame==2.1.3 in /usr/local/lib/python3.9/dist-packages (from gymnasium[classic-control]) (2.1.3)\n",
            "Requirement already satisfied: zipp>=0.5 in /usr/local/lib/python3.9/dist-packages (from importlib-metadata>=4.8.0->gymnasium[classic-control]) (3.15.0)\n"
          ]
        }
      ],
      "source": [
        "!pip install gymnasium[classic-control]"
      ]
    },
    {
      "cell_type": "markdown",
      "metadata": {
        "id": "HdvXw3YuYhLF"
      },
      "source": [
        "There are only 3 imports for this HW.\n",
        "\n",
        "Numpy, Gymnasium and sklearn LR.\n",
        "\n",
        "Numpy of course is for dataprocessing. Gymnasium is for the environment and sklearn LR is for immitation learning."
      ]
    },
    {
      "cell_type": "code",
      "execution_count": null,
      "metadata": {
        "id": "nHgxefTNYhLF",
        "outputId": "03f7a8f4-de53-4eff-cbaf-3d67253995fe",
        "colab": {
          "base_uri": "https://localhost:8080/"
        }
      },
      "outputs": [
        {
          "output_type": "stream",
          "name": "stdout",
          "text": [
            "0.28.1\n"
          ]
        }
      ],
      "source": [
        "import numpy as np\n",
        "import gymnasium as gym\n",
        "print(gym.__version__)\n",
        "from sklearn.linear_model import LogisticRegression\n",
        "from sklearn.neural_network import MLPClassifier\n",
        "import matplotlib.pyplot as plt"
      ]
    },
    {
      "cell_type": "markdown",
      "source": [
        "#Main Code"
      ],
      "metadata": {
        "id": "MyjX_SbiLL1t"
      }
    },
    {
      "cell_type": "markdown",
      "source": [
        "General Scripts (used throughout the project)"
      ],
      "metadata": {
        "id": "oevlPDuHLOw9"
      }
    },
    {
      "cell_type": "code",
      "execution_count": null,
      "metadata": {
        "id": "OCZIfgKaSatZ"
      },
      "outputs": [],
      "source": [
        "# given an observation, discretize it\n",
        "def get_bin_index(observation, bins, min, max):\n",
        "  if (observation < min):\n",
        "    return 0\n",
        "  if (observation > max):\n",
        "    return bins-1\n",
        "  return int((observation-min)/((max-min)/bins))"
      ]
    },
    {
      "cell_type": "code",
      "execution_count": null,
      "metadata": {
        "colab": {
          "base_uri": "https://localhost:8080/"
        },
        "id": "_GPOBLkdk39g",
        "outputId": "d6e33dfb-ed7a-47f6-9b6c-854c3aff15a6"
      },
      "outputs": [
        {
          "output_type": "execute_result",
          "data": {
            "text/plain": [
              "100"
            ]
          },
          "metadata": {},
          "execution_count": 24
        }
      ],
      "source": [
        "# Read the state and action CSV files. \n",
        "# Outputs three lists: states, actions, and rewards\n",
        "# These correspond to the state, action, reward for each timestep\n",
        "def read_from_past(state_file, action_file):\n",
        "  states = np.genfromtxt(state_file, skip_header=1, usecols=(1,2,3,4), delimiter=',')\n",
        "  actions = np.genfromtxt(action_file, dtype=np.int32, skip_header=1, usecols=(1), delimiter=',')\n",
        "  last_angle = 0\n",
        "  last_pos = 0\n",
        "  rewards = []\n",
        "  timestep_count = 0\n",
        "  for i in range(1, len(states)):\n",
        "    # recognize episode boundaries by detecting large changes in angle, position\n",
        "    # or a timestep of 500\n",
        "    if abs(states[i][2]-last_angle) > 0.1 or abs(states[i][0]-last_pos > 2) or timestep_count == 500:\n",
        "      rewards.append(0)\n",
        "      timestep_count = 0\n",
        "      # print(\"appending\")\n",
        "    else:\n",
        "      rewards.append(1)\n",
        "      timestep_count += 1\n",
        "    last_angle = states[i][2]\n",
        "    last_pos = states[i][0]\n",
        "  rewards.append(0)\n",
        "  return states, actions, rewards\n",
        "\n",
        "states, actions, rewards = read_from_past('Expert_100.csv', 'action_Expert_100.csv')\n",
        "count_zero = 0\n",
        "for reward in rewards:\n",
        "  count_zero += int(reward==0)\n",
        "count_zero"
      ]
    },
    {
      "cell_type": "markdown",
      "metadata": {
        "id": "kR1sGsBR6UBf"
      },
      "source": [
        "# Fitted-Q Learning"
      ]
    },
    {
      "cell_type": "code",
      "execution_count": null,
      "metadata": {
        "id": "ZEYhBfOES_jB"
      },
      "outputs": [],
      "source": [
        "class Fitted_Q:\n",
        "  def __init__(self, alpha, gamma, states, actions, rewards, K):\n",
        "    self.weights = np.random.uniform(-0.001,0.001,(1,81))\n",
        "    self.alpha=alpha\n",
        "    self.gamma=gamma\n",
        "    self.states=states\n",
        "    self.actions = actions\n",
        "    self.rewards=rewards\n",
        "    self.state_action_features = np.array([self.to_features(states[i], actions[i]) for i in range(len(states))])\n",
        "    self.K = K\n",
        "\n",
        "\n",
        "  def set_target(self):\n",
        "    # compute y_i\n",
        "    temp = [1 + self.gamma * (0 if self.rewards[i] == 0 else self.get_max_q(self.states[i]).item()) for i in range(len(self.rewards))]\n",
        "    \n",
        "    self.y = np.array(temp).reshape(-1, 1)\n",
        "  \n",
        "  # update weights (phi)\n",
        "  def batch_gradient_descent(self):\n",
        "    num_epoch = 5\n",
        "    m = self.state_action_features.shape[0]\n",
        "    # print(\"m\", m)\n",
        "    # print(\"state_action_features\", self.state_action_features.shape)\n",
        "    # print(\"weights\", self.weights.shape)\n",
        "    for epoch in range(num_epoch):\n",
        "      hypothesis = np.dot(self.state_action_features, self.weights.T)\n",
        "      # print(\"hypothesis\", hypothesis.shape)\n",
        "      diff = hypothesis - self.y\n",
        "      # print(\"diff\", diff.shape)\n",
        "    #   cost = np.sum(diff ** 2) / (2 * m)\n",
        "      gradient = np.dot(self.state_action_features.T, diff) / m\n",
        "      # print(\"gradient\", gradient.shape)\n",
        "      self.weights = self.weights - self.alpha * gradient.T\n",
        "      # print(\"new weights\", self.weights.shape)\n",
        "  # bin all the features into 10 bins using the ranges below\n",
        "  def to_features(self, observation, action):\n",
        "    features = np.zeros(81)\n",
        "    features[80] = 1 # bias term\n",
        "    action_padding = 0 if action == 0 else 40\n",
        "    # print(observation)\n",
        "    features[get_bin_index(observation[0], 10, -2.4, 2.4)+action_padding] = 1\n",
        "    features[get_bin_index(observation[1], 10, -3,3)+10+action_padding] = 1\n",
        "    features[get_bin_index(observation[2], 10, -0.3, 0.3)+20+action_padding] = 1\n",
        "    features[get_bin_index(observation[3], 10, -3, 3)+30+action_padding] = 1\n",
        "\n",
        "\n",
        "    return features\n",
        "  def get_max_q(self, state):\n",
        "    # print(np.dot(self.weights, self.to_features(state, 0)), np.dot(self.weights, self.to_features(state, 1)))\n",
        "    return max(np.dot(self.weights, self.to_features(state, 0)), np.dot(self.weights, self.to_features(state, 1)))\n",
        "  def provide_action(self, state):\n",
        "    left_q = np.dot(self.weights, self.to_features(state, 0))\n",
        "    right_q = np.dot(self.weights, self.to_features(state, 1))\n",
        "    action = 0 if left_q > right_q else 1\n",
        "    # print(action)\n",
        "    return action\n",
        "  def train(self):\n",
        "    # print(self.weights)\n",
        "    for i in range(self.K):\n",
        "      self.set_target()\n",
        "      self.batch_gradient_descent()"
      ]
    },
    {
      "cell_type": "code",
      "execution_count": null,
      "metadata": {
        "id": "6Tt7fSdPYhLK"
      },
      "outputs": [],
      "source": [
        "# returns mean, std for the 100 episodes\n",
        "def run_fitted_q(alpha, gamma, K, dataset):\n",
        "    print(\"Running Fitted Q on dataset {}\".format(dataset))\n",
        "    states, actions, rewards = read_from_past('{}.csv'.format(dataset), 'action_{}.csv'.format(dataset))\n",
        "    agent = Fitted_Q(alpha, gamma, states, actions, rewards, K)\n",
        "    agent.train()\n",
        "    env = gym.make(\"CartPole-v1\")\n",
        "    observation, info = env.reset()\n",
        "    episode_number = 0\n",
        "    timestep = 0\n",
        "    return_per_episode = []\n",
        "    while (episode_number < 100):\n",
        "        action = agent.provide_action(observation)\n",
        "        next_observation, reward, terminated, truncated, info = env.step(action)\n",
        "        # agent.update_weights(reward, observation, next_observation, action, terminated)\n",
        "        observation = next_observation\n",
        "        if terminated or truncated:\n",
        "            return_per_episode.append(timestep)\n",
        "            # print(\"Testing: Episode terminated after {} timesteps\".format(timestep))\n",
        "            timestep = 0\n",
        "            episode_number += 1\n",
        "            observation, info = env.reset()\n",
        "            continue\n",
        "            \n",
        "        timestep += 1\n",
        "    env.close()\n",
        "    return np.mean(return_per_episode), np.std(return_per_episode)"
      ]
    },
    {
      "cell_type": "markdown",
      "source": [
        "#Immitation Learning"
      ],
      "metadata": {
        "id": "zHqI3yerLXES"
      }
    },
    {
      "cell_type": "code",
      "execution_count": 60,
      "metadata": {
        "id": "rwWZOW5yYhLM"
      },
      "outputs": [],
      "source": [
        "\n",
        "\n",
        "def immitation_learning(dataset,parameter_C):\n",
        "    states, actions, rewards = read_from_past('{}.csv'.format(dataset), 'action_{}.csv'.format(dataset))\n",
        "    output = []\n",
        "    mean = 0\n",
        "    std = 0\n",
        "    clf = LogisticRegression(random_state=0,C = parameter_C).fit(states, actions)\n",
        "    print(\"Logistic Regression Accuracy Score: \",clf.score(states,actions))\n",
        "    seeds = range(50,60)\n",
        "    for i in range(100):\n",
        "      action_list = []\n",
        "      length = 0\n",
        "      terminated = False\n",
        "      truncated = False\n",
        "      env = gym.make(\"CartPole-v1\")#,render_mode='human')\n",
        "      observation, info = env.reset()#seed=seeds[i%25])\n",
        "      while not terminated:\n",
        "\n",
        "        action = clf.predict([observation])\n",
        "        action_list.append(action[0])\n",
        "        #print(action)\n",
        "        #print(\"end: \", terminated)\n",
        "        observation, reward, terminated, truncated, info = env.step(action[0])\n",
        "\n",
        "        length += 1\n",
        "      env.close()\n",
        "\n",
        "      #print(length)\n",
        "      output.append(length)\n",
        "      #print(action_list)\n",
        "    output = np.array(output)\n",
        "    mean = np.mean(output)\n",
        "    std = np.std(output)\n",
        "    return mean, std\n",
        "\n",
        "\n",
        "    "
      ]
    },
    {
      "cell_type": "markdown",
      "source": [
        "Running All the Codes"
      ],
      "metadata": {
        "id": "jFC7MFx_OD38"
      }
    },
    {
      "cell_type": "code",
      "execution_count": 66,
      "metadata": {
        "colab": {
          "base_uri": "https://localhost:8080/"
        },
        "id": "iL-cfaHHTAVv",
        "outputId": "ebdf7a21-e118-476b-9618-968148b7235a"
      },
      "outputs": [
        {
          "output_type": "stream",
          "name": "stdout",
          "text": [
            "Logistic Regression Accuracy Score:  0.9572783309625414\n",
            "Logistic Regression Accuracy Score:  0.957325746799431\n",
            "Running Fitted Q on dataset Expert_100\n",
            "Running Fitted Q on dataset Expert_100\n",
            "Logistic Regression Accuracy Score:  0.9561688940538446\n",
            "Logistic Regression Accuracy Score:  0.9558396281231842\n",
            "Running Fitted Q on dataset Expert_250\n",
            "Running Fitted Q on dataset Expert_250\n",
            "Logistic Regression Accuracy Score:  0.9611609632942235\n",
            "Logistic Regression Accuracy Score:  0.9608967521601707\n",
            "Running Fitted Q on dataset Expert_500\n",
            "Running Fitted Q on dataset Expert_500\n",
            "Logistic Regression Accuracy Score:  0.9611527601986175\n",
            "Logistic Regression Accuracy Score:  0.9605685911790478\n",
            "Running Fitted Q on dataset Expert_random_100\n",
            "Running Fitted Q on dataset Expert_random_100\n",
            "Logistic Regression Accuracy Score:  0.9583057061507859\n",
            "Logistic Regression Accuracy Score:  0.9586177308007332\n",
            "Running Fitted Q on dataset Expert_random_250\n",
            "Running Fitted Q on dataset Expert_random_250\n",
            "Logistic Regression Accuracy Score:  0.9561688940538446\n",
            "Logistic Regression Accuracy Score:  0.9558396281231842\n",
            "Running Fitted Q on dataset Expert_random_500\n",
            "Running Fitted Q on dataset Expert_random_500\n",
            "Logistic Regression Accuracy Score:  0.522432701894317\n",
            "Logistic Regression Accuracy Score:  0.5249252243270189\n",
            "Running Fitted Q on dataset Random_100\n",
            "Running Fitted Q on dataset Random_100\n",
            "Logistic Regression Accuracy Score:  0.508055451479955\n",
            "Logistic Regression Accuracy Score:  0.5121768452603972\n",
            "Running Fitted Q on dataset Random_250\n",
            "Running Fitted Q on dataset Random_250\n",
            "Logistic Regression Accuracy Score:  0.5077519379844961\n",
            "Logistic Regression Accuracy Score:  0.506921373200443\n",
            "Running Fitted Q on dataset Random_500\n",
            "Running Fitted Q on dataset Random_500\n"
          ]
        }
      ],
      "source": [
        "result_Q_1 = {}\n",
        "result_Q_2 = {}\n",
        "result_LR_1 = {}\n",
        "result_LR_2 = {}\n",
        "for mode in ['Expert', 'Expert_random', 'Random']:\n",
        "  for dataset_size in [100,250,500]:\n",
        "    dataset = '{}_{}'.format(mode, dataset_size)\n",
        "    #print(\"data: \",dataset)\n",
        "    result_LR_1[dataset] = immitation_learning(dataset,1)\n",
        "    result_LR_2[dataset] = immitation_learning(dataset,3)\n",
        "    result_Q_1[dataset] = run_fitted_q(0.0625, 1, 5, dataset)\n",
        "    result_Q_2[dataset] = run_fitted_q(1/4, 1, 5, dataset)\n",
        "\n"
      ]
    },
    {
      "cell_type": "markdown",
      "source": [
        "Results"
      ],
      "metadata": {
        "id": "UAJEN5qaNGY8"
      }
    },
    {
      "cell_type": "code",
      "execution_count": 67,
      "metadata": {
        "id": "U9lzfaHQYhLN",
        "outputId": "d3178740-4995-4dbe-c4bd-ffc52ef31457",
        "colab": {
          "base_uri": "https://localhost:8080/"
        }
      },
      "outputs": [
        {
          "output_type": "stream",
          "name": "stdout",
          "text": [
            "{'Expert_100': (203.34, 43.2687462263468), 'Expert_250': (197.46, 42.20483858516698), 'Expert_500': (194.23, 41.747300511530085), 'Expert_random_100': (203.67, 41.78709250474362), 'Expert_random_250': (196.85, 38.86524797296423), 'Expert_random_500': (199.35, 42.0738339113516), 'Random_100': (10.62, 1.405560386465128), 'Random_250': (16.16, 19.37664573655616), 'Random_500': (10.28, 2.676116589388437)}\n",
            "{'Expert_100': (201.46, 38.473476578027096), 'Expert_250': (196.39, 40.65855260581714), 'Expert_500': (195.52, 40.12068793029352), 'Expert_random_100': (194.89, 38.789404481120876), 'Expert_random_250': (200.75, 37.907090365787774), 'Expert_random_500': (196.67, 37.85315178423059), 'Random_100': (8.85, 2.3254031908466968), 'Random_250': (17.31, 28.92427872912305), 'Random_500': (9.03, 2.2425654951416694)}\n"
          ]
        }
      ],
      "source": [
        "print(result_Q_1)\n",
        "print(result_Q_2)"
      ]
    },
    {
      "cell_type": "code",
      "execution_count": 68,
      "metadata": {
        "id": "NV1fhEz4DMkJ",
        "outputId": "13a48726-a744-48b9-9949-546b0a934669",
        "colab": {
          "base_uri": "https://localhost:8080/"
        }
      },
      "outputs": [
        {
          "output_type": "stream",
          "name": "stdout",
          "text": [
            "{'Expert_100': (212.92, 58.90868866304868), 'Expert_250': (231.65, 70.68781719645897), 'Expert_500': (237.03, 71.68088378361415), 'Expert_random_100': (200.54, 49.47795872911493), 'Expert_random_250': (217.94, 61.97238417230694), 'Expert_random_500': (221.05, 54.79057856967748), 'Random_100': (9.59, 0.6941901756723442), 'Random_250': (42.51, 11.882335628991466), 'Random_500': (9.9, 0.5744562646538027)}\n",
            "{'Expert_100': (220.51, 71.65409897556455), 'Expert_250': (251.32, 92.99149208395357), 'Expert_500': (254.54, 84.71356680012947), 'Expert_random_100': (223.21, 69.24309279632156), 'Expert_random_250': (246.94, 86.22259796596249), 'Expert_random_500': (256.16, 102.7266002552406), 'Random_100': (9.6, 0.648074069840786), 'Random_250': (38.27, 10.88012408017482), 'Random_500': (9.86, 0.5102940328869229)}\n"
          ]
        }
      ],
      "source": [
        "print(result_LR_1)\n",
        "print(result_LR_2)"
      ]
    },
    {
      "cell_type": "markdown",
      "source": [
        "# Bonus"
      ],
      "metadata": {
        "id": "ydK-dG4lFf45"
      }
    },
    {
      "cell_type": "code",
      "source": [
        "\n",
        "class Mlp_agent:\n",
        "  def __init__(self, states, actions):\n",
        "    self.classifier = clf = MLPClassifier(solver='lbfgs', alpha=1e-5, hidden_layer_sizes=(5, 2), random_state=1)\n",
        "    self.states=states\n",
        "    self.actions = actions\n",
        "\n",
        "  def provide_action(self, state):\n",
        "    action = self.classifier.predict(np.array(state).reshape(1,-1))[0]\n",
        "    # print(action)\n",
        "    return action\n",
        "  def train(self):\n",
        "    self.classifier.fit(np.array(self.states), np.array(self.actions))\n",
        "\n",
        "# It is not clear from the assignment whether we need to incorporate MLP on Fitted-q-learning. The code as below works. It performs poorly compared\n",
        "# to the Mlp_agent. It achieves a mean return of 58 on expert_100. \n",
        "\n",
        "# class Mlp_q_value_agent:\n",
        "#   def __init__(self, states, actions, rewards):\n",
        "#     self.classifier = clf = MLPClassifier(solver='sgd', alpha=1e-2, hidden_layer_sizes=(100, 100), random_state=1, early_stopping=True)\n",
        "#     self.states=states\n",
        "#     self.actions = actions\n",
        "#     self.rewards = rewards\n",
        "#     self.state_action_features = np.array([self.to_features(states[i], actions[i]) for i in range(len(states))])\n",
        "#     self.state_action_q = [] # each element corresponds to the return of the state_action at that timestep\n",
        "#     state_action_return = 0\n",
        "#     for reward in rewards[::-1]:\n",
        "#       if reward == 0:\n",
        "#         state_action_return = 0\n",
        "#       else:\n",
        "#         state_action_return += 1\n",
        "#       self.state_action_q.insert(0, state_action_return)\n",
        "#     print(self.state_action_q)\n",
        "#   def to_features(self, observation, action):\n",
        "#     features = np.zeros(81)\n",
        "#     features[80] = 1 # bias term\n",
        "#     action_padding = 0 if action == 0 else 40\n",
        "#     # print(observation)\n",
        "#     features[get_bin_index(observation[0], 10, -2.4, 2.4)+action_padding] = 1\n",
        "#     features[get_bin_index(observation[1], 10, -3,3)+10+action_padding] = 1\n",
        "#     features[get_bin_index(observation[2], 10, -0.3, 0.3)+20+action_padding] = 1\n",
        "#     features[get_bin_index(observation[3], 10, -3, 3)+30+action_padding] = 1\n",
        "\n",
        "\n",
        "#     return features\n",
        "\n",
        "#   def provide_action(self, state):\n",
        "#     state_action_left = np.array(self.to_features(state, 0)).reshape(1,-1)\n",
        "#     state_action_right = np.array(self.to_features(state, 1)).reshape(1,-1)\n",
        "#     q_left = self.classifier.predict(state_action_left)[0]\n",
        "#     q_right = self.classifier.predict(state_action_right)[0]\n",
        "#     print(q_left, q_right)\n",
        "#     return 0 if q_left > q_right else 1\n",
        "#   def train(self):\n",
        "#     self.classifier.fit(self.state_action_features, np.array(self.state_action_q))"
      ],
      "metadata": {
        "id": "CKeqVAABFezZ"
      },
      "execution_count": 69,
      "outputs": []
    },
    {
      "cell_type": "code",
      "source": [
        "# returns mean, std for the 100 episodes\n",
        "def run_mlp(dataset):\n",
        "    print(\"Running MLP on dataset {}\".format(dataset))\n",
        "    states, actions, rewards = read_from_past('{}.csv'.format(dataset), 'action_{}.csv'.format(dataset))\n",
        "    agent = Mlp_agent(states, actions)\n",
        "    # agent = Mlp_q_value_agent(states, actions, rewards)\n",
        "    agent.train()\n",
        "    env = gym.make(\"CartPole-v1\")\n",
        "    observation, info = env.reset()\n",
        "    episode_number = 0\n",
        "    timestep = 0\n",
        "    return_per_episode = []\n",
        "    while (episode_number < 100):\n",
        "        action = agent.provide_action(observation)\n",
        "        next_observation, reward, terminated, truncated, info = env.step(action)\n",
        "        # agent.update_weights(reward, observation, next_observation, action, terminated)\n",
        "        observation = next_observation\n",
        "        if terminated or truncated:\n",
        "            return_per_episode.append(timestep)\n",
        "            # print(\"Testing: Episode terminated after {} timesteps\".format(timestep))\n",
        "            timestep = 0\n",
        "            episode_number += 1\n",
        "            observation, info = env.reset()\n",
        "            continue\n",
        "            \n",
        "        timestep += 1\n",
        "    env.close()\n",
        "    return np.mean(return_per_episode), np.std(return_per_episode)\n",
        "mlp_result = {}\n",
        "for mode in ['Expert', 'Expert_random', 'Random']:\n",
        "  for dataset_size in [100,250,500]:\n",
        "    dataset = '{}_{}'.format(mode, dataset_size)\n",
        "    mlp_result[dataset] = run_mlp(dataset)\n",
        "print(mlp_result)"
      ],
      "metadata": {
        "id": "1T6DGvK0Fjlm",
        "outputId": "d39332a3-cc02-4ce3-a9b8-93bfe3b7f6c7",
        "colab": {
          "base_uri": "https://localhost:8080/"
        }
      },
      "execution_count": 70,
      "outputs": [
        {
          "output_type": "stream",
          "name": "stdout",
          "text": [
            "Running MLP on dataset Expert_100\n",
            "Running MLP on dataset Expert_250\n",
            "Running MLP on dataset Expert_500\n",
            "Running MLP on dataset Expert_random_100\n",
            "Running MLP on dataset Expert_random_250\n",
            "Running MLP on dataset Expert_random_500\n",
            "Running MLP on dataset Random_100\n",
            "Running MLP on dataset Random_250\n",
            "Running MLP on dataset Random_500\n",
            "{'Expert_100': (203.83, 42.78038218623111), 'Expert_250': (190.24, 41.532425886287925), 'Expert_500': (198.27, 40.832059708028446), 'Expert_random_100': (192.4, 39.06456194557927), 'Expert_random_250': (193.22, 41.254958489859135), 'Expert_random_500': (198.59, 39.04538256951774), 'Random_100': (9.74, 1.136837719289785), 'Random_250': (8.83, 1.0300970828033638), 'Random_500': (8.27, 0.759670981412348)}\n"
          ]
        }
      ]
    },
    {
      "cell_type": "markdown",
      "source": [
        "#Plots"
      ],
      "metadata": {
        "id": "GrM5BBxfFkQw"
      }
    },
    {
      "cell_type": "markdown",
      "source": [
        "### Note about the charts\n",
        "*The assignment did not specify how to present result with the two different learning rates. ALthough the report did only ask for charts with 6 bars (3 LR and 3 Q-fitted), the most natural solution is add the bonus and the different learning rates to the charts. This will make the conclusion of the report more straight forward to explain (since all the data are in these plots)*"
      ],
      "metadata": {
        "id": "MDaCxE29f7tW"
      }
    },
    {
      "cell_type": "code",
      "source": [
        "Q1, Q1_std = (result_Q_1['Expert_100'][0], result_Q_1['Expert_random_100'][0], result_Q_1['Random_100'][0]), (result_Q_1['Expert_100'][1], result_Q_1['Expert_random_100'][1], result_Q_1['Random_100'][1])\n",
        "Q2, Q2_std = (result_Q_2['Expert_100'][0], result_Q_2['Expert_random_100'][0], result_Q_2['Random_100'][0]), (result_Q_2['Expert_100'][1], result_Q_2['Expert_random_100'][1], result_Q_2['Random_100'][1])\n",
        "LR1, LR1_std = (result_LR_1['Expert_100'][0], result_LR_1['Expert_random_100'][0], result_LR_1['Random_100'][0]), (result_LR_1['Expert_100'][1], result_LR_1['Expert_random_100'][1], result_LR_1['Random_100'][1])\n",
        "LR2, LR2_std = (result_LR_2['Expert_100'][0], result_LR_2['Expert_random_100'][0], result_LR_2['Random_100'][0]), (result_LR_2['Expert_100'][1], result_LR_2['Expert_random_100'][1], result_LR_2['Random_100'][1])\n",
        "\n",
        "MLP1, MLP1_std = (mlp_result['Expert_100'][0], mlp_result['Expert_random_100'][0], mlp_result['Random_100'][0]), (mlp_result['Expert_100'][1], mlp_result['Expert_random_100'][1], mlp_result['Random_100'][1])\n",
        "\n",
        "ind = np.arange(len(LR1))  # the x locations for the groups\n",
        "width = 0.15  # the width of the bars\n",
        "\n",
        "fig, ax = plt.subplots()\n",
        "rects1 = ax.bar(ind - width/2-.15, Q1, width, yerr=Q1_std,\n",
        "                label='Q Fitted Alpha = 1/16')\n",
        "rects2 = ax.bar(ind + width/2-.15, Q2, width, yerr=Q2_std,\n",
        "                label='Q Fitted Alpha = 1/4')\n",
        "rects3 = ax.bar(ind + width*2-.1-.15, LR1, width, yerr=LR1_std,\n",
        "                label='Logistic Regression C = 1')\n",
        "rects4 = ax.bar(ind + width*3-.1-.15, LR2, width, yerr=LR2_std,\n",
        "                label='Logistic Regression C = 3')\n",
        "rects5 = ax.bar(ind + width*4-.1-.15, MLP1, width, yerr=MLP1_std,\n",
        "                label='MLP')\n",
        "ax.axhline(y=210.9,color='black', label = \"Expert Average\") # the expert policy average\n",
        "ax.axhline(y=20.06,color='red', label='Random Average')\n",
        "\n",
        "# Add some text for labels, title and custom x-axis tick labels, etc.\n",
        "ax.set_ylabel('Length of Trial')\n",
        "ax.set_title('Comparision of 100 Episode')\n",
        "ax.set_xticks(ind)\n",
        "ax.set_xticklabels(('Pure Expert', 'Expert Random Mix', 'Pure Random'))\n",
        "ax.legend(bbox_to_anchor=(1.5, 1.05))"
      ],
      "metadata": {
        "id": "lcWUsrdaA3AE",
        "outputId": "61c82ceb-7e0c-459c-f18e-4b81f6574c44",
        "colab": {
          "base_uri": "https://localhost:8080/",
          "height": 469
        }
      },
      "execution_count": 71,
      "outputs": [
        {
          "output_type": "execute_result",
          "data": {
            "text/plain": [
              "<matplotlib.legend.Legend at 0x7f27fea97850>"
            ]
          },
          "metadata": {},
          "execution_count": 71
        },
        {
          "output_type": "display_data",
          "data": {
            "text/plain": [
              "<Figure size 640x480 with 1 Axes>"
            ],
            "image/png": "[encoded data removed]"
          },
          "metadata": {}
        }
      ]
    },
    {
      "cell_type": "code",
      "source": [
        "Q1, Q1_std = (result_Q_1['Expert_250'][0], result_Q_1['Expert_random_250'][0], result_Q_1['Random_250'][0]), (result_Q_1['Expert_250'][1], result_Q_1['Expert_random_250'][1], result_Q_1['Random_250'][1])\n",
        "Q2, Q2_std = (result_Q_2['Expert_250'][0], result_Q_2['Expert_random_250'][0], result_Q_2['Random_250'][0]), (result_Q_2['Expert_250'][1], result_Q_2['Expert_random_250'][1], result_Q_2['Random_250'][1])\n",
        "LR1, LR1_std = (result_LR_1['Expert_250'][0], result_LR_1['Expert_random_250'][0], result_LR_1['Random_250'][0]), (result_LR_1['Expert_250'][1], result_LR_1['Expert_random_250'][1], result_LR_1['Random_250'][1])\n",
        "LR2, LR2_std = (result_LR_2['Expert_250'][0], result_LR_2['Expert_random_250'][0], result_LR_2['Random_250'][0]), (result_LR_2['Expert_250'][1], result_LR_2['Expert_random_250'][1], result_LR_2['Random_250'][1])\n",
        "\n",
        "MLP1, MLP1_std = (mlp_result['Expert_250'][0], mlp_result['Expert_random_250'][0], mlp_result['Random_250'][0]), (mlp_result['Expert_250'][1], mlp_result['Expert_random_250'][1], mlp_result['Random_250'][1])\n",
        "\n",
        "ind = np.arange(len(LR1))  # the x locations for the groups\n",
        "width = 0.15  # the width of the bars\n",
        "\n",
        "fig, ax = plt.subplots()\n",
        "rects1 = ax.bar(ind - width/2-.15, Q1, width, yerr=Q1_std,\n",
        "                label='Q Fitted Alpha = 1/16')\n",
        "rects2 = ax.bar(ind + width/2-.15, Q2, width, yerr=Q2_std,\n",
        "                label='Q Fitted Alpha = 1/4')\n",
        "rects3 = ax.bar(ind + width*2-.1-.15, LR1, width, yerr=LR1_std,\n",
        "                label='Logistic Regression C = 1')\n",
        "rects4 = ax.bar(ind + width*3-.1-.15, LR2, width, yerr=LR2_std,\n",
        "                label='Logistic Regression C = 3')\n",
        "rects5 = ax.bar(ind + width*4-.1-.15, MLP1, width, yerr=MLP1_std,\n",
        "                label='MLP')\n",
        "ax.axhline(y=206.52,color='black', label = \"Expert Average\")\n",
        "ax.axhline(y=21.35,color='red', label='Random Average')\n",
        "\n",
        "# Add some text for labels, title and custom x-axis tick labels, etc.\n",
        "ax.set_ylabel('Length of Trial')\n",
        "ax.set_title('Comparision of 250 Episode')\n",
        "ax.set_xticks(ind)\n",
        "ax.set_xticklabels(('Pure Expert', 'Expert Random Mix', 'Pure Random'))\n",
        "ax.legend(bbox_to_anchor=(1.5, 1.05))"
      ],
      "metadata": {
        "id": "bqTJDyEbJlvG",
        "outputId": "8f64148d-98f8-4ee0-a97e-f2181a33f831",
        "colab": {
          "base_uri": "https://localhost:8080/",
          "height": 469
        }
      },
      "execution_count": 72,
      "outputs": [
        {
          "output_type": "execute_result",
          "data": {
            "text/plain": [
              "<matplotlib.legend.Legend at 0x7f2802d184c0>"
            ]
          },
          "metadata": {},
          "execution_count": 72
        },
        {
          "output_type": "display_data",
          "data": {
            "text/plain": [
              "<Figure size 640x480 with 1 Axes>"
            ],
            "image/png": "[encoded data removed]"
          },
          "metadata": {}
        }
      ]
    },
    {
      "cell_type": "code",
      "execution_count": 74,
      "metadata": {
        "id": "ihK9NR3MYhLP",
        "outputId": "92006dda-2e3a-4bf0-b5fb-d4e3d9d3519e",
        "colab": {
          "base_uri": "https://localhost:8080/",
          "height": 469
        }
      },
      "outputs": [
        {
          "output_type": "execute_result",
          "data": {
            "text/plain": [
              "<matplotlib.legend.Legend at 0x7f2802e2e6d0>"
            ]
          },
          "metadata": {},
          "execution_count": 74
        },
        {
          "output_type": "display_data",
          "data": {
            "text/plain": [
              "<Figure size 640x480 with 1 Axes>"
            ],
            "image/png": "[encoded data removed]"
          },
          "metadata": {}
        }
      ],
      "source": [
        "Q1, Q1_std = (result_Q_1['Expert_500'][0], result_Q_1['Expert_random_500'][0], result_Q_1['Random_500'][0]), (result_Q_1['Expert_500'][1], result_Q_1['Expert_random_500'][1], result_Q_1['Random_500'][1])\n",
        "Q2, Q2_std = (result_Q_2['Expert_500'][0], result_Q_2['Expert_random_500'][0], result_Q_2['Random_500'][0]), (result_Q_2['Expert_500'][1], result_Q_2['Expert_random_500'][1], result_Q_2['Random_500'][1])\n",
        "LR1, LR1_std = (result_LR_1['Expert_500'][0], result_LR_1['Expert_random_500'][0], result_LR_1['Random_500'][0]), (result_LR_1['Expert_500'][1], result_LR_1['Expert_random_500'][1], result_LR_1['Random_500'][1])\n",
        "LR2, LR2_std = (result_LR_2['Expert_500'][0], result_LR_2['Expert_random_500'][0], result_LR_2['Random_500'][0]), (result_LR_2['Expert_500'][1], result_LR_2['Expert_random_500'][1], result_LR_2['Random_500'][1])\n",
        "MLP1, MLP1_std = (mlp_result['Expert_500'][0], mlp_result['Expert_random_500'][0], mlp_result['Random_500'][0]), (mlp_result['Expert_500'][1], mlp_result['Expert_random_500'][1], mlp_result['Random_500'][1])\n",
        "\n",
        "ind = np.arange(len(LR1))  # the x locations for the groups\n",
        "width = 0.15  # the width of the bars\n",
        "\n",
        "fig, ax = plt.subplots()\n",
        "rects1 = ax.bar(ind - width/2-.15, Q1, width, yerr=Q1_std,\n",
        "                label='Q Fitted Alpha = 1/16')\n",
        "rects2 = ax.bar(ind + width/2-.15, Q2, width, yerr=Q2_std,\n",
        "                label='Q Fitted Alpha = 1/4')\n",
        "rects3 = ax.bar(ind + width*2-.1-.15, LR1, width, yerr=LR1_std,\n",
        "                label='Logistic Regression C = 1')\n",
        "rects4 = ax.bar(ind + width*3-.1-.15, LR2, width, yerr=LR2_std,\n",
        "                label='Logistic Regression C = 3')\n",
        "rects5 = ax.bar(ind + width*4-.1-.15, MLP1, width, yerr=MLP1_std,\n",
        "                label='MLP')\n",
        "ax.axhline(y=204.38,color='black', label = \"Expert Average\")\n",
        "ax.axhline(y=21.67,color='red', label='Random Average')\n",
        "\n",
        "# Add some text for labels, title and custom x-axis tick labels, etc.\n",
        "ax.set_ylabel('Length of Trial')\n",
        "ax.set_title('Comparision of 500 Episode')\n",
        "ax.set_xticks(ind)\n",
        "ax.set_xticklabels(('Pure Expert', 'Expert Random Mix', 'Pure Random'))\n",
        "ax.legend(bbox_to_anchor=(1.5, 1.05))"
      ]
    },
    {
      "cell_type": "markdown",
      "metadata": {
        "id": "05RNY6tLYhLQ"
      },
      "source": [
        "# Experiment Report\n",
        "## The expert action dataset chosen for offline learning\n",
        "We collected the expert actions using the agent from A2. Specifically, we used the Q-learning agent that has been trained for 1000 episodes. \n",
        "\n",
        "## Imitation Learning Description\n",
        "Immitation Learning:\n",
        "\n",
        "Immitation Learning is fundamentally based around Logistic Regression. The whole point as the name implies is to immitate that actions of the training dataset. This is a simple case of using sklearn's Logistic Regression library and passing the necessary datasets through it. For the sake of this experiment the datasets were: \n",
        "1. Expert (in 100, 250, and 500 episode variants)\n",
        "2. Expert_Random (in 100, 250, and 500 episode variants)\n",
        "3. Random (in 100, 250, and 500 episode variants)\n",
        "\n",
        "This data is split up into two segments. The first part is the state and the second is the action. The state data in the datasets will be used in the sklearn's X value and then the y value is the actions. We are trying to immitate the actions so we try to get the best accuracy of the data's action as possible\n",
        "\n",
        "The match accuracy of the Logistic Regression algorithm from Sklearn was over 95% (using \".score() from sklearn\") in both the expert and expert/random datasets. This fell to 50% in the pure random datasets. This explains why those sets have low scores in the cartpole experiments. It is because there is no pattern for them to learn and they mearly guess the values\n",
        "\n",
        "Since the Sklearn Logistic Regression library does not allow for changing the learning rates the hyperparameter testing was done on the C value of the LR method.\n",
        "\n",
        "The C value in Logistic Regression refers to its regularization strength. This changes the data to effect reduce its generalization error but not in its trainning data. \n",
        "\n",
        "\n",
        "## Fitted-Q-Learning Description:\n",
        "In this part of the experiment, we used the fitted-q-learning. This relies on learning the Q-values from the expert action dataset. Specifically, the Q-value is modelled as a linear function of some parameters. One difference between q-learning from A2 and fitted-q-learning in this assignment is that in this assignment, we have access to all the dataset at once. Therefore, we can treat the entire dataset as a batch. \n",
        "\n",
        "The algorithm for fitted-q-learning is as below:\n",
        "1. collect dataset $\\left\\{\\left(\\mathbf{s}_i, \\mathbf{a}_i, \\mathbf{s}_i^{\\prime}, r_i\\right)\\right\\}$ using some policy\n",
        "\n",
        "Repeat for K times (where K is a hyperparameter):\n",
        "\n",
        "  2. set $\\mathbf{y}_i \\leftarrow r\\left(\\mathbf{s}_i, \\mathbf{a}_i\\right)+\\gamma \\max _{\\mathbf{a}_i^{\\prime}} Q_\\phi\\left(\\mathbf{s}_i^{\\prime}, \\mathbf{a}_i^{\\prime}\\right)$\n",
        "  3. set $\\phi \\leftarrow \\arg \\min _\\phi \\frac{1}{2} \\sum_i\\left\\|Q_\\phi\\left(\\mathbf{s}_i, \\mathbf{a}_i\\right)-\\mathbf{y}_i\\right\\|^2$\n",
        "\n",
        "We select $\\gamma = 1$ because of the episodic nature of the task and because value of rewards should be be time-discounted.\n",
        "\n",
        "$\\mathbf{y}_i$ is the \"target\" Q-value we need to model. Step 2 sets that target based on actual rewards. Step 3 chooses parameter weights that minimizes the sumof differences between predicted Q and target Q across the entire batch. Step 3 is performed by using batch gradient descent. This means step 3 involves going through multiple epochs, where each epoch updates $\\phi$ (the q-value weights) until it converges close to the minimum. \n",
        "\n",
        "We tested various epoch counts (1,2,3,5,10,15) and empirically determined an appropriate number of epochs for our dataset to be 5. It has a good balance between accuracy and speed. We also attemped using the absolute difference between target and predicted q-values to determine convergence. As the final result is not significantly different from using the epoch count, we used epoch counts for step 3 due to simplicity. \n",
        "\n",
        "\n",
        "\n",
        "We arbitrarily selected the hyperparameter K to be 5. We ran the experiment for expert_100 for different values of K in the range 3,5,...,13, for alpha = 1/16. The mean return for the different values of K differ only marginally. As a result, we did not change our initial K value. \n",
        "\n",
        "|  K | Mean return |\n",
        "|:--:|-------------|\n",
        "|  3 | 199.94      |\n",
        "|  5 | 199.77      |\n",
        "|  7 | 199.46      |\n",
        "|  9 | 200.68      |\n",
        "| 11 | 194.0       |\n",
        "| 13 | 200.09      |\n",
        "\n",
        "We experimented with two different learning rates, $\\alpha = \\frac{1}{4}$ and $\\alpha = \\frac{1}{16}$.\n",
        "\n",
        "## Logistic Regression Conclusion:\n",
        "Overall the Expert Data won against all cases of Expert data mixed with Random Data and all cases of just Random Data. This points to the fact that adding random data to expert data does not overall improve the results. A case could be made that in theory it should help against overfitting data but the results do not really back this up since at best case (which would be the case of LR 500 expert versus LR 500 expert/random) the results are nearly identical. In the other two cases the Expert trained LR wins outright. \n",
        "\n",
        "\n",
        "The interesting scenario in regards to the expert/random dataset comes in the 500 expert/random dataset versus the 250 pure expert dataset. In this case the results are actually similar. The duration of \"life\" for the cartpole was similar. This makes sense because the 500 expert/random dataset contains 250 episodes of pure expert data. Pure expert episodes last longer so there is more data of expert actions in them than the 250 episodes of random data. But still in this case the results for both were nearly virtual. This means than in all cases tests there were really no benefits of adding random data to expert data. More expert data is better. \n",
        "\n",
        "The pure random datasets caused the agent to perform terribly on cartpole, as expected. This is due to the fact you are training on random data. Logistic regression looks for patterns in what action should be done when to keep the cartpole alive and in random data there are no paterns to follow. \n",
        "\n",
        "\n",
        "The Hyperparameter testing did show that higher values in C of logistic regression did seem to increase the accuracy by a bit but not substantially. We tested in cases where C = 1 which is the default of Sklearn Logistic regression and we tried other values. The value of 3 seemed to be the best and after that any increases seemed to decrease the overall accuracy. (This can be tested by just running the LR tests for the sake of this report we were told to only show two cases.))"
      ]
    },
    {
      "cell_type": "markdown",
      "metadata": {
        "id": "BmmMCE-hYhLR"
      },
      "source": [
        "## Fitted-q-learning\n",
        "As in LR, we observed that, given the same dataset size, the expert-random mix performs nearly as well as the expert dataset. This is because although expert and random are 50% each in terms of episode count, random episodes end much faster, so overall the percentage of expert actions are much larger than the random actions in the expert-random dataset. Even using data from 100 episodes, fitted-q-learning agent using expert data has reached close to a return of 200. \n",
        "\n",
        "The best alpha value is 1/4. \n"
      ]
    },
    {
      "cell_type": "markdown",
      "metadata": {
        "id": "S3Fu1wM_YhLR"
      },
      "source": [
        "## Overall Conclusion:\n"
      ]
    },
    {
      "cell_type": "markdown",
      "metadata": {
        "id": "TUMUogTMYhLR"
      },
      "source": [
        "### Comparison between LR and Fitted-Q\n",
        "Overall, Logistic Regression marginally outperforms Q fitted, especially with pure expert data. Both estimators result in high variance, but that was because of the high-variance expert agent we chose. \n",
        "\n",
        "The only cases where LR are on par with or performs worse than fitted-q is in cases where there are random data. This is not in all cases but some. \n",
        "\n",
        "In the pure random cases, half the time (across all episode counts) the LR is beaten by Q fitted. However, this is based on random data therefore the guesses from Q fitted or LR are also technically random, so this is meaningless. \n",
        "\n",
        "The diffence between LR and Fitted-q performance increaseses as the dataset size increases. In the case of expert_random_100 dataset, Q fitted with an alpha of 1/4 is comparable to LR. In future experiments it would be interesting to see results in cases with even smaller datasets to see if this principles holds. This could entail datasets of just 50 episodes (with a expert/random split). The issue would be if the dataset is too small there might not be enough data to train LR and Q fitted methods.\n",
        "\n",
        "### comparison with expert policies\n",
        "As expected, at 100 episodes, the agent underperforms compared to the expert policy. That is because it did not have enough data to understand the expert behavior. As the number of episode increases, the performance becomes closer to that of expert policy. In the 250 and 500 episode case, LR outperforms the expert policy. It is possible LR uses the advantage of being able to review expert actions in batches to identify a trend. \n",
        "The expert policy may have overfitted, and the trend approximation found by logistical regression may better correspond to optimal action. \n",
        "\n",
        "\n",
        "Another interesting test for future experiments would be to try other ML methods for the immitation learning. As seen in COMP.551 and ECSE.551 especially in cases with a more and more features (and eventually actions) random forest and decision trees are good and efficient methods to use. It would be interesting to see if they would beat out LR or Qfitted."
      ]
    },
    {
      "cell_type": "markdown",
      "source": [
        "The increase in dataset size does not significantly impact Q fitted (regardless of the alpha value). Its episode duration is always roughly 200. LR does seem to benefit slightly from increased amounts of data. But it does not benefit more than 5-10 points of duration for every doubling of the dataset episdoe count. MLP does not benefit whatsoever from increased data. It stays consistent.\n",
        "\n",
        "\n",
        "Changing the dataset to have partial random data does not really change much. The results across the board (across all methods and algorithms) are fairly consistent. The difference comes when the dataset becomes when the pure random data and the result become guesses meaning the duration of each episdoe falls."
      ],
      "metadata": {
        "id": "YgG5dF6MWYZj"
      }
    },
    {
      "cell_type": "markdown",
      "source": [
        "### Multi-layer Perceptron\n",
        "For the bonus, we used the multi-layer perceptron from SK learn to learn actions when given a state. It's a 4-layer MLP, with 2 hidden layers with 5 and 2 perceptrons each. It achieved a mean return of around 200. It uses the 'lbfgs' optimizer and 'relu' activation. \n",
        "\n",
        "It is not clear from the assignment whether we need to incorporate MLP on Fitted-q-learning. In this second approach, the idea is to learn the q-values instead of the actions, and use the MLP to find a q-value for both actions given a state, before picking the one with the higher q-value. \n",
        "\n",
        "We successfully implemented MLP on fitted-q-learning. It performs relatively poorly compared to the Mlp_agent. It achieves a mean return of 58 on expert_100 dataset. We have commented out this second approach out of our code. "
      ],
      "metadata": {
        "id": "WMR22d25l0jM"
      }
    },
    {
      "cell_type": "code",
      "source": [],
      "metadata": {
        "id": "_u35g4AyYsK5"
      },
      "execution_count": null,
      "outputs": []
    }
  ],
  "metadata": {
    "colab": {
      "provenance": []
    },
    "kernelspec": {
      "display_name": "Python 3 (ipykernel)",
      "language": "python",
      "name": "python3"
    },
    "language_info": {
      "codemirror_mode": {
        "name": "ipython",
        "version": 3
      },
      "file_extension": ".py",
      "mimetype": "text/x-python",
      "name": "python",
      "nbconvert_exporter": "python",
      "pygments_lexer": "ipython3",
      "version": "3.10.9"
    }
  },
  "nbformat": 4,
  "nbformat_minor": 0
}